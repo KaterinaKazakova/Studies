<!doctype html>
<html>
  <head><script type="text/javascript">window.NREUM||(NREUM={}),__nr_require=function(e,n,t){function r(t){if(!n[t]){var o=n[t]={exports:{}};e[t][0].call(o.exports,function(n){var o=e[t][1][n];return r(o||n)},o,o.exports)}return n[t].exports}if("function"==typeof __nr_require)return __nr_require;for(var o=0;o<t.length;o++)r(t[o]);return r}({1:[function(e,n,t){function r(){}function o(e,n,t){return function(){return i(e,[c.now()].concat(u(arguments)),n?null:this,t),n?void 0:this}}var i=e("handle"),a=e(3),u=e(4),f=e("ee").get("tracer"),c=e("loader"),s=NREUM;"undefined"==typeof window.newrelic&&(newrelic=s);var p=["setPageViewName","setCustomAttribute","setErrorHandler","finished","addToTrace","inlineHit","addRelease"],d="api-",l=d+"ixn-";a(p,function(e,n){s[n]=o(d+n,!0,"api")}),s.addPageAction=o(d+"addPageAction",!0),s.setCurrentRouteName=o(d+"routeName",!0),n.exports=newrelic,s.interaction=function(){return(new r).get()};var m=r.prototype={createTracer:function(e,n){var t={},r=this,o="function"==typeof n;return i(l+"tracer",[c.now(),e,t],r),function(){if(f.emit((o?"":"no-")+"fn-start",[c.now(),r,o],t),o)try{return n.apply(this,arguments)}catch(e){throw f.emit("fn-err",[arguments,this,e],t),e}finally{f.emit("fn-end",[c.now()],t)}}}};a("actionText,setName,setAttribute,save,ignore,onEnd,getContext,end,get".split(","),function(e,n){m[n]=o(l+n)}),newrelic.noticeError=function(e,n){"string"==typeof e&&(e=new Error(e)),i("err",[e,c.now(),!1,n])}},{}],2:[function(e,n,t){function r(e,n){if(!o)return!1;if(e!==o)return!1;if(!n)return!0;if(!i)return!1;for(var t=i.split("."),r=n.split("."),a=0;a<r.length;a++)if(r[a]!==t[a])return!1;return!0}var o=null,i=null,a=/Version\/(\S+)\s+Safari/;if(navigator.userAgent){var u=navigator.userAgent,f=u.match(a);f&&u.indexOf("Chrome")===-1&&u.indexOf("Chromium")===-1&&(o="Safari",i=f[1])}n.exports={agent:o,version:i,match:r}},{}],3:[function(e,n,t){function r(e,n){var t=[],r="",i=0;for(r in e)o.call(e,r)&&(t[i]=n(r,e[r]),i+=1);return t}var o=Object.prototype.hasOwnProperty;n.exports=r},{}],4:[function(e,n,t){function r(e,n,t){n||(n=0),"undefined"==typeof t&&(t=e?e.length:0);for(var r=-1,o=t-n||0,i=Array(o<0?0:o);++r<o;)i[r]=e[n+r];return i}n.exports=r},{}],5:[function(e,n,t){n.exports={exists:"undefined"!=typeof window.performance&&window.performance.timing&&"undefined"!=typeof window.performance.timing.navigationStart}},{}],ee:[function(e,n,t){function r(){}function o(e){function n(e){return e&&e instanceof r?e:e?f(e,u,i):i()}function t(t,r,o,i){if(!d.aborted||i){e&&e(t,r,o);for(var a=n(o),u=v(t),f=u.length,c=0;c<f;c++)u[c].apply(a,r);var p=s[y[t]];return p&&p.push([b,t,r,a]),a}}function l(e,n){h[e]=v(e).concat(n)}function m(e,n){var t=h[e];if(t)for(var r=0;r<t.length;r++)t[r]===n&&t.splice(r,1)}function v(e){return h[e]||[]}function g(e){return p[e]=p[e]||o(t)}function w(e,n){c(e,function(e,t){n=n||"feature",y[t]=n,n in s||(s[n]=[])})}var h={},y={},b={on:l,addEventListener:l,removeEventListener:m,emit:t,get:g,listeners:v,context:n,buffer:w,abort:a,aborted:!1};return b}function i(){return new r}function a(){(s.api||s.feature)&&(d.aborted=!0,s=d.backlog={})}var u="nr@context",f=e("gos"),c=e(3),s={},p={},d=n.exports=o();d.backlog=s},{}],gos:[function(e,n,t){function r(e,n,t){if(o.call(e,n))return e[n];var r=t();if(Object.defineProperty&&Object.keys)try{return Object.defineProperty(e,n,{value:r,writable:!0,enumerable:!1}),r}catch(i){}return e[n]=r,r}var o=Object.prototype.hasOwnProperty;n.exports=r},{}],handle:[function(e,n,t){function r(e,n,t,r){o.buffer([e],r),o.emit(e,n,t)}var o=e("ee").get("handle");n.exports=r,r.ee=o},{}],id:[function(e,n,t){function r(e){var n=typeof e;return!e||"object"!==n&&"function"!==n?-1:e===window?0:a(e,i,function(){return o++})}var o=1,i="nr@id",a=e("gos");n.exports=r},{}],loader:[function(e,n,t){function r(){if(!E++){var e=x.info=NREUM.info,n=l.getElementsByTagName("script")[0];if(setTimeout(s.abort,3e4),!(e&&e.licenseKey&&e.applicationID&&n))return s.abort();c(y,function(n,t){e[n]||(e[n]=t)}),f("mark",["onload",a()+x.offset],null,"api");var t=l.createElement("script");t.src="https://"+e.agent,n.parentNode.insertBefore(t,n)}}function o(){"complete"===l.readyState&&i()}function i(){f("mark",["domContent",a()+x.offset],null,"api")}function a(){return O.exists&&performance.now?Math.round(performance.now()):(u=Math.max((new Date).getTime(),u))-x.offset}var u=(new Date).getTime(),f=e("handle"),c=e(3),s=e("ee"),p=e(2),d=window,l=d.document,m="addEventListener",v="attachEvent",g=d.XMLHttpRequest,w=g&&g.prototype;NREUM.o={ST:setTimeout,SI:d.setImmediate,CT:clearTimeout,XHR:g,REQ:d.Request,EV:d.Event,PR:d.Promise,MO:d.MutationObserver};var h=""+location,y={beacon:"bam.nr-data.net",errorBeacon:"bam.nr-data.net",agent:"js-agent.newrelic.com/nr-1118.min.js"},b=g&&w&&w[m]&&!/CriOS/.test(navigator.userAgent),x=n.exports={offset:u,now:a,origin:h,features:{},xhrWrappable:b,userAgent:p};e(1),l[m]?(l[m]("DOMContentLoaded",i,!1),d[m]("load",r,!1)):(l[v]("onreadystatechange",o),d[v]("onload",r)),f("mark",["firstbyte",u],null,"api");var E=0,O=e(5)},{}]},{},["loader"]);</script><script type="text/javascript">window.NREUM||(NREUM={});NREUM.info={"beacon":"bam.nr-data.net","queueTime":0,"licenseKey":"d2285414d1","agent":"","transactionName":"YVFaYktUChEHBkVbWVgbfkNXVhALCQseWllbUUhXXlBKDwcMXwhaWVNRWA==","applicationID":"88100971","errorBeacon":"bam.nr-data.net","applicationTime":11}</script>
    <meta name="viewport" content="width=device-width, initial-scale=1">
    <title>Cognitive Class - Labs</title>
      <script>
          var DEFAULT_HEARTBEAT_TIME = 120;
          console.log("Persisting DEFAULT_HEARTBEAT_TIME as " + DEFAULT_HEARTBEAT_TIME);
          var INACTIVE_LOGOUT_TIME = 30;
      </script>
    
    <link rel="stylesheet" type="text/css"
          href="/common/static/js/vendor/ap-components/ap-components.min.css"/>
    <link rel="stylesheet" type="text/css" href="/common/static/css/app.min.css"/>
    <link rel="icon" type="image/png" href="/static/images/favicon_16x16.png" sizes="16x16">
    <link rel="icon" type="image/png" href="/static/images/favicon_32x32.png" sizes="32x32">
    <link rel="shortcut icon" href="/static/images/favicon.ico">

    <link rel="stylesheet" type="text/css"
          href="/common/static/vendor/bootstrap/css/bootstrap.css"/>
    <link rel="stylesheet" type="text/css" href="/static/css/bootstrap-social.css"/>
    <link rel="stylesheet" type="text/css" href="/static/css/login.css"/>


    

    
      <!-- start Google Analytics -->
      <script>
        (function(i,s,o,g,r,a,m){i['GoogleAnalyticsObject']=r;i[r]=i[r]||function(){
        (i[r].q=i[r].q||[]).push(arguments)},i[r].l=1*new Date();a=s.createElement(o),
        m=s.getElementsByTagName(o)[0];a.async=1;a.src=g;m.parentNode.insertBefore(a,m)
        })(window,document,'script','//www.google-analytics.com/analytics.js','ga');

        ga('create', 'UA-1433936-16', 'auto');
        ga('send', 'pageview');
      </script>
      <!-- end Google Analytics -->
    


    
      <meta name="google-site-verification" content="" />
    

    
      <script type="text/javascript" src="https://cdn.ravenjs.com/3.6.1/raven.min.js"></script>
      <script>
        Raven.config('https://b052ab88487148ac9ff6eed308fd111b@labs-sentry.cognitiveclass.ai/4', {
          logger: 'monocle-frontend'
        }).install();
      </script>
    

    
      <!-- Inactivity session prompt start-->
      <script>
        var INACTIVITY_SESSION_ENABLED = JSON.parse('true');
      </script>

      <!-- Inactivity session prompt end -->
    

    
      <!-- Add CC portal urls into authorized domain list -->
      <script>
        var AUTHORIZED_PORTAL_LIST = JSON.parse('["https://courses.bdu.intela-edu.com", "https://courses.rtc.cognitiveclass.ai/", "https://courses.cc.imarticus.org/", "https://tcs.courses.cognitiveclass.ai/", "https://courses.npower.cognitiveclass.ai/", "https://courses.ibmautomationacademy.cognitiveclass.ai/", "https://courses.automation-test.portals-dev.apset.xyz/", "https://courses.ibmeph.cognitiveclass.ai/", "https://courses.newcollar.cognitiveclass.ai/", "https://courses.apskills.cognitiveclass.ai/", "https://bnp.courses.cognitiveclass.ai/", "https://courses.technet.cognitiveclass.cn/", "https://cornellu.courses.cognitiveclass.ai", "https://courses.statestreet.cognitiveclass.ai/", "https://td.courses.cognitiveclass.ai/", "https://courses.test-suite.cognitiveclass.ai/", "https://courses.acme-tor.cognitiveclass.ai/", "https://courses.frcc.cognitiveclass.ai/", "https://waldenu.courses.cognitiveclass.ai/", "https://james-test-with-ann2.courses.cognitiveclass.ai/", "https://usvets.courses.cognitiveclass.ai/", "https://courses.bdu.ua-scs.com/", "https://courses.acme.cognitiveclass.ai/", "https://sjtu.courses.bigdatauniversity.com.cn/", "https://courses.academicinitiative.cognitiveclass.ai/", "https://courses.acme-dev-labs-prod.portals-dev.apset.xyz/", "https://courses.mds.cognitiveclass.ai/", "https://courses.bdu.bigdatarchitect.com/", "https://marcio.courses.cognitiveclass.ai/", "https://laureate.courses.cognitiveclass.ai/", "https://c2c.courses.cognitiveclass.ai/", "https://bli.courses.bigdatauniversity.com/", "https://courses.bdu.blifutureready.org/", "https://courses.hcl.cognitiveclass.ai/", "https://cibc.courses.bigdatauniversity.com/", "https://james-test-with-ann.courses.cognitiveclass.ai/", "https://courses.arrow.cognitiveclass.ai/", "https://twdc.courses.cognitiveclass.ai/", "https://courses.cc.apset.xyz/", "https://courses.ibmdevelopers.portals-dev.apset.xyz/", "https://course-dev.courses.bigdatauniversity.com/", "https://michael-dev.courses.cognitiveclass.ai/", "https://zambon.courses.cognitiveclass.ai/", "https://courses.techusandpit.cognitiveclass.ai/", "https://courses.bp2i.cognitiveclass.ai/", "https://courses.bdu.blifutureready.org", "https://courses.bigdatauniversity.com.cn/", "https://james-test-without-ann2.courses.cognitiveclass.ai/", "https://courses.techstars.cognitiveclass.ai/", "https://geico.courses.bigdatauniversity.com/", "https://courses.centrum.cognitiveclass.ai/", "https://courses.acme-itl.cognitiveclass.ai/", "https://courses.withibm.cognitiveclass.ai/", "https://courses.iag.cognitiveclass.ai/", "https://courses.cc.jigsawacademy.net/", "https://courses.ai4health.cognitiveclass.ai/", "https://courses.citi.cognitiveclass.ai/", "https://courses.verizon.cognitiveclass.ai/", "https://anndemo.courses.cognitiveclass.ai/", "https://courses.n41.cognitiveclass.ai/", "https://courses.western.cognitiveclass.ai/", "https://courses.fnuniv.cognitiveclass.ai/", "https://courses.missionreadyhq.cognitiveclass.ai/", "https://courses.cestar.cognitiveclass.ai/", "https://courses.dmc.cognitiveclass.ai/", "https://courses.dta.cognitiveclass.ai/", "https://james-test-without-ann.courses.cognitiveclass.ai/", "https://courses.rutgers.cognitiveclass.ai/", "https://ibmcep.courses.cognitiveclass.ai/", "https://aig.courses.bigdatauniversity.com/", "https://courses.cba.cognitiveclass.ai/", "https://uwindsor.courses.cognitiveclass.ai/", "https://500startups.courses.cognitiveclass.ai/", "https://ann-auto-test.courses.cognitiveclass.ai/", "https://courses.accenture.cognitiveclass.ai/", "https://cognizant.courses.cognitiveclass.ai/", "https://courses.mindhand.cognitiveclass.ai/", "https://dxc.courses.bigdatauniversity.com/", "https://joshdev.courses.cognitiveclass.ai/", "https://courses.mitibmwatsonailab.cognitiveclass.ai/", "https://course-dev.courses.bigdatauniversity.com/", "https://courses.futureskills.cognitiveclass.ai/", "https://courses.syd.cognitiveclass.ai/", "https://lighthouselabs.courses.cognitiveclass.ai/", "https://courses.manulife.cognitiveclass.ai/", "http://courses.bdutest.galvanize.com/", "https://courses.nsic.cognitiveclass.ai/", "https://courses.techusandpit.cognitiveclass.ai/", "https://courses.entel.cognitiveclass.ai/", "https://courses.ubisoft.cognitiveclass.ai/", "https://courses.favcode54.cognitiveclass.ai/", "https://sl.courses.cognitiveclass.ai/", "https://pimco.courses.cognitiveclass.ai/", "https://courses.sa.edunetworld.com/", "https://anndemo3.courses.cognitiveclass.ai/"]');
      </script>
    

    
      
        <!-- Add base url into authorized domain list -->
        <script>
          if (typeof AUTHORIZED_PORTAL_LIST === "undefined"){
            var AUTHORIZED_PORTAL_LIST = [];
          }
          AUTHORIZED_PORTAL_LIST.push('https://courses.cognitiveclass.ai/');
        </script>
      
    


    
    

  </head>
  <body>
    
    <div class="main">
        <div class="wb-registration">
            <div class="container">


                <div class="row" style="margin-bottom: 20px; font-size: 1.3em;">
                    <div class="col-sm-offset-4 col-sm-4 text-center">
              <span style="font-size: xx-large; font-weight: bold;">
                <img src="/common/static/images/cc-logo.png" style="max-width: 65px;"
                     data-pin-nopin="true" alt="Labs Logo">
                Labs
              </span>
                    </div>
                    <div style="clear: both;"></div>
                </div>
            </div>

            
                
            

            
                
                
                
            

            
            
            

            <div class="ap-container tabs-container">
                

                <div class="login-tabs tabs">
                    <ul class="tabs__list" role="tablist">

                        
                            
                                <!-- COGNITIVE CLASS LOGIN -->
                                <li class="tabs__tab tab" id="cc-tab" role="tab" aria-controls="panel1"
                                    aria-selected="true"
                                    tabindex=1>Log in
                                </li>
                            
                            
                                <!-- SOCIAL LOGIN -->
                                <li class="tabs__tab tab" id="social-tab" role="tab" aria-controls="panel2"
                                    aria-selected="false" tabindex=1>or Log in with social
                                </li>
                            
                        
                        <!-- EMAIL LOGIN -->
                        <li class="tabs__tab tab" id="email-tab" role="tab" aria-controls="panel3"
                            aria-selected="false"
                            tabindex=1>or Log in with email
                        </li>
                    </ul>

                    
                        
                            <!-- COGNITIVE CLASS LOGIN -->
                            <div class="tabs__tabpanel panel login-panel" id="panel1" role="tabpanel"
                                 aria-labelledby="cc-tab"
                                 aria-hidden="false">
                                <p class="text click-blurb">Click button to log in.</p>
                                <div style="text-align:center; margin-bottom: 15px;">
                                    <a class="btn btn-social btn-lg btn-bdu" href="/bdu/login">
                                        <img src="/static/css/assets/img/bdu.svg"
                                             alt="Cognitive Class"> Cognitive Class
                                    </a>
                                </div>
                                <p class="text click-blurb">
                                  By logging in, I acknowledge that I understand how 
                                  Cognitive Class
                                   is using my basic personal data, and that I am at least sixteen years of age. Our 
                                  <a target="_blank" href="https://cognitiveclass.ai/legal/#privacypolicy">Privacy Notice</a>
                                   provides more details.
                                </p>

                                <p>
                                    <a class="register-login-link-text"
                                       href="/register">Don't have an account? Sign up!</a>
                                </p>
                            </div>
                        
                        <!-- SOCIAL LOGIN -->
                        <div class="tabs__tabpanel panel login-panel" id="panel2" role="tabpanel" aria-labelledby="social-tab"
                             aria-hidden="true">
                            <p class="text click-blurb">Click button to log in.</p>
                            <div style="text-align:center;">
                                
                                    

                                
                                    
                                        <a class="btn btn-social-icon btn-lg btn-linkedin" href="/linkedin/login">
                                            <span class="fa fa-linkedin"></span>
                                        </a>
                                    

                                
                                    
                                        <a class="btn btn-social-icon btn-lg btn-google" href="/google/login">
                                            <span class="fa fa-google"></span>
                                        </a>
                                    

                                
                                    
                                        <a class="btn btn-social-icon btn-lg btn-github" href="/github/login">
                                            <span class="fa fa-github"></span>
                                        </a>
                                    

                                
                                    
                                        <a class="btn btn-social-icon btn-lg btn-facebook" href="/facebook/login">
                                            <span class="fa fa-facebook"></span>
                                        </a>
                                    

                                
                            </div>
                            <p class="text click-blurb">
                              By logging in, I acknowledge that I understand how 
                              Cognitive Class
                               is using my basic personal data, and that I am at least sixteen years of age. Our 
                              <a target="_blank" href="https://cognitiveclass.ai/legal/#privacypolicy">Privacy Notice</a>
                               provides more details.
                            </p>

                            <p>
                                <a class="register-login-link-text"
                                   href="/register">Don't have an account? Sign up!</a>
                            </p>
                        </div>
                    
                    <!-- EMAIL LOGIN -->
                    <div class="tabs__tabpanel panel login-panel" id="panel3" role="tabpanel" aria-labelledby="email-tab"
                         aria-hidden="true">

                        <div id="loginForm" class="row">
                            <div class="col-sm-12">
                                <form id="form-set-password" class="form-horizontal" role="form" method="post"
                                      action="">
                                    <input type="hidden" name="input_next" value="/">

                                    <div class="form-group">
                                        <label class="col-sm-4 control-label">Username
                                            / Email</label>
                                        <div class="col-sm-8">
                                            <input type="text" placeholder="Username / Email"
                                                   class="text text--light" name="input_username">
                                        </div>
                                    </div>

                                    <div class="form-group">
                                        <label class="col-sm-4 control-label">Password</label>
                                        <div class="col-sm-8">
                                            <input type="password" placeholder="Password"
                                                   class="text text--light"
                                                   name="input_password">

                                            <span id="helpBlock" class="help-block text-right">
                    <a href="/reset_password">Forgot your password?</a>
                  </span>
                                        </div>
                                    </div>

                                    <div class="form-group">
                                        <div class="col-sm-offset-4 col-sm-8">
                                            <p class="text click-blurb">
                                              By logging in, I acknowledge that I understand how 
                                              Cognitive Class
                                               is using my basic personal data, and that I am at least sixteen years of age. Our 
                                              <a target="_blank" href="https://cognitiveclass.ai/legal/#privacypolicy">Privacy Notice</a>
                                               provides more details.
                                            </p>
                                            
                                                <button type="submit" class="button"
                                                        style="width: 100%; margin-top:10px;"
                                                        onclick="$(this).addClass('button--disabled');">Log In</button>
                                            

                                        </div>
                                    </div>


                                    <div class="form-group">
                                        <div class="col-sm-offset-4 col-sm-8">
                                            <p class="text-center">
                                                <a class="register-login-link-text"
                                                   href="/register">Don't have an account? Sign up!</a>
                                            </p>
                                        </div>
                                    </div>
                                </form>
                            </div>
                        </div>

                    </div>
                </div>
            </div>


        </div>
    </div>

    <footer class="footer dark">
  <div>
    <a target="_blank" href="https://cognitiveclass.ai/legal/">Terms of Use</a> &nbsp;&nbsp;
    <a target="_blank" href="https://cognitiveclass.ai/legal/#privacypolicy">Privacy Notice</a>
  </div>

  <div class="footer__love-msg">
    Crafted with <i class="fa fa-heart fa-fw"></i> and support from IBM
  </div>

  <div class="footer__copyright">
    &copy; Copyright Cognitive Class 2019
  </div>
</footer>
    </div>


    
      <script src="/common/static/vendor/jquery.min.js"></script>
      
    <script src="/common/static/js/vendor/ap-components/ap-components.min.js"></script>
    <script src="/common/static/js/bundle.min.js"></script>


    

    <script type="text/javascript">
      window.sessionStorage.clear('seamonkeyMessages');
    </script>

    <!-- 
  -->


        <!-- minimize sidebar -->
        <script>
            $(function () {
                $("#menu-toggle").click(function(e) {
                    e.preventDefault();
                    $("#sidebar-wrapper").toggleClass("toggled");
                    $(".page").toggleClass("toggled");
                });
            });
        </script>

    

      <script>
        var appcuesLoader = document.createElement("script");

        appcuesLoader.addEventListener("load", function() {
          // Adblockers can block Appcues
          if (Appcues) {
            
              Appcues.anonymous();
            
          }
        });

        appcuesLoader.src = '//fast.appcues.com/37753.js';
        appcuesLoader.async = true;
        document.getElementsByTagName("script")[0].parentNode.appendChild(appcuesLoader);
      </script>

    

    
      <!-- start UserVoice -->
      <script type='text/javascript'>
        var api_key  = 'O5SLs1K1RfWhBYkHvMaXTg';
        var forum_id = '246775';

        // Include the UserVoice JavaScript SDK (only needed once on a page)
        UserVoice = window.UserVoice || [];
        (function() {
          var uv = document.createElement('script');
          uv.type = 'text/javascript';
          uv.async = true;
          uv.src = 'https://widget.uservoice.com/' + api_key + '.js';
          var s = document.getElementsByTagName('script')[0];
          s.parentNode.insertBefore(uv,s)
        })();

        

        //
        // UserVoice Javascript SDK developer documentation:
        // https://www.uservoice.com/o/javascript-sdk
        //
        UserVoice.push(['showTab', 'classic_widget', {
          mode: 'full',
          primary_color: '#19496A',
          link_color: '#007dbf',
          default_mode: 'support',
          tab_label: "Support",
          tab_color: '#19496A',
          tab_position: 'middle-right',
          tab_inverted: false
        }]);

        // Post new ideas to IBM Data Scientist Workbench forum
        UserVoice.push(['set', 'forum_id', forum_id]);

        
      </script>
      <!-- end UserVoice -->
      

      
      

    
  </body>
</html>